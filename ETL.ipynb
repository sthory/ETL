{
 "cells": [
  {
   "cell_type": "code",
   "execution_count": 13,
   "id": "62902896-c532-4e1a-921e-1bbc721c3b08",
   "metadata": {},
   "outputs": [],
   "source": [
    "import pandas as pd\n",
    "import numpy as np\n",
    "import os\n",
    "from shutil import copyfile\n",
    "import shutil\n",
    "import re\n",
    "from email_validator import validate_email, EmailNotValidError\n",
    "import datetime\n",
    "from datetime import date\n",
    "import mysql.connector"
   ]
  },
  {
   "cell_type": "code",
   "execution_count": 14,
   "id": "b9b27718-ede7-45e8-9ece-3d823f754d48",
   "metadata": {},
   "outputs": [],
   "source": [
    "WORKFILES = \"home/vinkOS/archivosVisitas/\""
   ]
  },
  {
   "cell_type": "code",
   "execution_count": 15,
   "id": "aaab2125-6c13-4885-a278-1ef704776ea3",
   "metadata": {},
   "outputs": [],
   "source": [
    "columns = ['email', 'jk', 'Badmail', 'Baja', 'Fecha envio', 'Fecha open', 'Opens',\n",
    "           'Opens virales', 'Fecha click', 'Clicks', 'Clicks virales', 'Links',\n",
    "           'IPs', 'Navegadores', 'Plataformas']\n",
    "\n",
    "dtype = ['str', 'str', 'str', 'str', 'str', 'str', 'int64', 'int64', 'str', \n",
    "         'int64', 'int64', 'str', 'str', 'str', 'str']    "
   ]
  },
  {
   "cell_type": "code",
   "execution_count": 16,
   "id": "c83761b0-453c-4fad-a7f7-bdbf3cfd463e",
   "metadata": {},
   "outputs": [],
   "source": [
    "def create_dataframe(columns, dtype):\n",
    "    \n",
    "    cdt = {i[0]: i[1] for i in zip(columns, dtype)}  # make column type dict\n",
    "    df = pd.DataFrame(columns = list(cdt))           # create empty dataframe\n",
    "    df = df.astype(cdt)                              # set types \n",
    "    \n",
    "    return df"
   ]
  },
  {
   "cell_type": "code",
   "execution_count": 17,
   "id": "c6b7be07-6f1e-4d54-8ffe-66a3f2c87021",
   "metadata": {
    "tags": []
   },
   "outputs": [],
   "source": [
    "def check_layout(filename, df1, columns, dtype):\n",
    "   \n",
    "    df2 = create_dataframe(columns, dtype)\n",
    "    \n",
    "    if not (len(df1.columns) == len(df2.columns)):\n",
    "        print(f\"Number of DataFrame column names are different, filename: {filename}\")\n",
    "        return False\n",
    "    else:\n",
    "        if not (df1.columns == df2.columns).all() :\n",
    "            print(f\"DataFrame column names are different, filename: {filename}\")\n",
    "            return False\n",
    "        else:\n",
    "            if any(df1.dtypes != df2.dtypes):\n",
    "                print(f\"Data Types are different, filename: {filename}\")\n",
    "                return False\n",
    "    \n",
    "    return True    "
   ]
  },
  {
   "cell_type": "code",
   "execution_count": 18,
   "id": "e867d856-3f77-4bdd-a234-8455c79d2b82",
   "metadata": {},
   "outputs": [],
   "source": [
    "def load_files(folder):\n",
    "    \n",
    "    files = [f for f in os.listdir(folder) if re.match(r'report_+[0-9]+.*\\.txt', f)]\n",
    "    \n",
    "    dataframes_list = []\n",
    "    \n",
    "    for f in files:\n",
    "        \n",
    "        dataframes_list.append((f, pd.read_csv((folder+f), delimiter = ',')))\n",
    "        \n",
    "    return dataframes_list        "
   ]
  },
  {
   "cell_type": "code",
   "execution_count": 19,
   "id": "65d7499b-dea3-4f0b-884c-30e3aa923f01",
   "metadata": {},
   "outputs": [],
   "source": [
    "# Load files\n",
    "dataframes_list = load_files(WORKFILES)"
   ]
  },
  {
   "cell_type": "code",
   "execution_count": 20,
   "id": "567712e0-5283-42cf-a4ae-936c212c7922",
   "metadata": {},
   "outputs": [
    {
     "name": "stdout",
     "output_type": "stream",
     "text": [
      "Data Types are different, filename: report_7.txt\n",
      "File report_7.txt is NOT OK\n",
      "\n",
      "DataFrame column names are different, filename: report_8.txt\n",
      "File report_8.txt is NOT OK\n",
      "\n",
      "DataFrame column names are different, filename: report_9.txt\n",
      "File report_9.txt is NOT OK\n",
      "\n"
     ]
    }
   ],
   "source": [
    "# Check Layout\n",
    "for filename, df in dataframes_list:\n",
    "    if check_layout(filename, df, columns, dtype):\n",
    "        print(f\"File {filename} is OK\")\n",
    "    else:\n",
    "        print(f\"File {filename} is NOT OK\")\n",
    "    print(\"\")"
   ]
  },
  {
   "cell_type": "code",
   "execution_count": 21,
   "id": "8e73fd95-961d-435f-9955-ba1bb1810cc1",
   "metadata": {},
   "outputs": [],
   "source": [
    "def check_email(string):\n",
    "    \n",
    "    try:\n",
    "    \n",
    "        valid = validate_email(string)\n",
    "        return True\n",
    "    \n",
    "    except:\n",
    "    \n",
    "        return False\n",
    "    \n",
    "def check_date(string):\n",
    "    \n",
    "    try:\n",
    "        \n",
    "        datetime.datetime.strptime(string, \"%d/%m/%Y %H:%M\")\n",
    "        return True\n",
    "        \n",
    "    except:\n",
    "        \n",
    "        return False\n",
    "    \n",
    "def validate_information(df):\n",
    "    \n",
    "    df_validated = pd.DataFrame(columns = df.columns)\n",
    "    df_errors = pd.DataFrame(columns = df.columns)\n",
    "   \n",
    "    for index, row in df.iterrows():\n",
    "        \n",
    "        if ( check_email(row['email']) and check_date(row['Fecha envio']) and\n",
    "             check_date(row['Fecha open']) and check_date(row['Fecha click']) ):\n",
    "            \n",
    "            df_validated = df_validated.append(row)\n",
    "            \n",
    "        else:\n",
    "                        \n",
    "            df_errors = df_errors.append(row)\n",
    "    \n",
    "    return ( (df_validated, df_errors) )   "
   ]
  },
  {
   "cell_type": "code",
   "execution_count": 22,
   "id": "e8303b7c-34c7-4b77-907b-589c4d724188",
   "metadata": {},
   "outputs": [
    {
     "name": "stdout",
     "output_type": "stream",
     "text": [
      "Validating: report_7.txt ...\n",
      "Rows validated GOOD: 23\n",
      "Rows with ERRORS: 480\n",
      "Finished: report_7.txt\n",
      "\n",
      "Validating: report_8.txt ...\n",
      "Rows validated GOOD: 10\n",
      "Rows with ERRORS: 493\n",
      "Finished: report_8.txt\n",
      "\n",
      "Validating: report_9.txt ...\n",
      "Rows validated GOOD: 11\n",
      "Rows with ERRORS: 984\n",
      "Finished: report_9.txt\n",
      "\n"
     ]
    }
   ],
   "source": [
    "df_validated_acum = create_dataframe(columns, dtype)\n",
    "df_errors_acum = create_dataframe(columns, dtype)\n",
    "\n",
    "for filename, df in dataframes_list:\n",
    "    \n",
    "    print(f\"Validating: {filename} ...\")\n",
    "    df_validated, df_errors = validate_information(df)\n",
    "    print(f\"Rows validated GOOD: {len(df_validated)}\")\n",
    "    print(f\"Rows with ERRORS: {len(df_errors)}\")\n",
    "    \n",
    "    df_validated_acum = df_validated_acum.append(df_validated)\n",
    "    df_errors_acum = df_errors_acum.append(df_errors)\n",
    "    \n",
    "    print(f\"Finished: {filename}\\n\")"
   ]
  },
  {
   "cell_type": "code",
   "execution_count": 23,
   "id": "073339cf-603c-4434-bf54-2faf4fb98e2f",
   "metadata": {},
   "outputs": [],
   "source": [
    "df_validated_acum.fillna('', inplace=True)\n",
    "df_errors_acum.fillna('', inplace=True)"
   ]
  },
  {
   "cell_type": "code",
   "execution_count": 24,
   "id": "dcfa50e7-8d49-4497-be13-39fc94a2e9d1",
   "metadata": {},
   "outputs": [
    {
     "name": "stdout",
     "output_type": "stream",
     "text": [
      "Total Rows validated GOOD: 44\n",
      "Total Rows with ERRORS: 1957\n"
     ]
    }
   ],
   "source": [
    "print(f\"Total Rows validated GOOD: {len(df_validated_acum)}\")\n",
    "print(f\"Total Rows with ERRORS: {len(df_errors_acum)}\")"
   ]
  },
  {
   "cell_type": "markdown",
   "id": "37626e51-5fed-4096-b71b-54ced312a89a",
   "metadata": {},
   "source": [
    "# SQL"
   ]
  },
  {
   "cell_type": "code",
   "execution_count": 25,
   "id": "f757b484-0215-4462-95c4-80c9ca560082",
   "metadata": {},
   "outputs": [],
   "source": [
    "from mysql.connector import connect, Error"
   ]
  },
  {
   "cell_type": "code",
   "execution_count": 26,
   "id": "d739b0e2-1362-40ae-ad6a-c802ccc3b58f",
   "metadata": {},
   "outputs": [],
   "source": [
    "DB_HOST = 'localhost'\n",
    "DB_USER = 'root'\n",
    "DB_PASSWORD = 'Eduardo_69'\n",
    "DB_NAME = 'Vinkos'"
   ]
  },
  {
   "cell_type": "code",
   "execution_count": 27,
   "id": "0b276f58-05b7-4fd8-816d-09bf7c2c73de",
   "metadata": {},
   "outputs": [],
   "source": [
    "import mysql.connector\n",
    "from mysql.connector import errorcode\n",
    "\n",
    "config = {\n",
    "    'user': DB_USER,\n",
    "    'password': DB_PASSWORD,\n",
    "    'host': DB_HOST,\n",
    "    'database': DB_NAME\n",
    "}\n",
    "\n",
    "db = mysql.connector.connect(**config)\n",
    "cursor = db.cursor()"
   ]
  },
  {
   "cell_type": "code",
   "execution_count": 28,
   "id": "2abd4385-e2d3-49ae-86d3-c83958cdc00f",
   "metadata": {},
   "outputs": [],
   "source": [
    "TABLES = {}\n",
    "\n",
    "TABLES['visitante'] = (\n",
    "    \"CREATE TABLE visitante (\"\n",
    "    \" email              VARCHAR(254) NOT NULL,\"\n",
    "    \" fechaprimeravisita DATE NOT NULL,\"\n",
    "    \" fechaultimavisita  DATE NOT NULL,\"\n",
    "    \" visitastotales     INT(10),\"\n",
    "    \" visitasanioactual  INT(10),\"\n",
    "    \" visitasmesactual   INT(10),\"\n",
    "    \" PRIMARY KEY (email) ) \"\n",
    ")\n",
    "\n",
    "TABLES['estadistica'] = (\n",
    "    \"CREATE TABLE estadistica (\"\n",
    "    \" email          VARCHAR(254) NOT NULL,\"\n",
    "    \" jyv            VARCHAR(250),\"\n",
    "    \" badmail        VARCHAR(254),\"\n",
    "    \" baja           VARCHAR(250),\"\n",
    "    \" fecha_envio    DATE,\"\n",
    "    \" fecha_open     DATE,\"\n",
    "    \" opens          INT(10),\"\n",
    "    \" opens_virales  INT(10),\"\n",
    "    \" fecha_click    VARCHAR(10),\"\n",
    "    \" clicks         INT(10),\"\n",
    "    \" clicks_virales INT(10),\"\n",
    "    \" links          VARCHAR(250),\"\n",
    "    \" ips            VARCHAR(250),\"\n",
    "    \" navegadores    VARCHAR(250),\"\n",
    "    \" plataformas    VARCHAR(250) )\")\n",
    "    \n",
    "\"\"\"    \n",
    "    \" PRIMARY KEY (email) )\"\n",
    ")\n",
    "\"\"\"\n",
    "\n",
    "TABLES['errores'] = (\n",
    "    \"CREATE TABLE errores (\"\n",
    "    \" email          VARCHAR(254) NOT NULL,\"\n",
    "    \" jyv            VARCHAR(250),\"\n",
    "    \" badmail        VARCHAR(254),\"\n",
    "    \" baja           VARCHAR(250),\"\n",
    "    \" fecha_envio    VARCHAR(250),\"\n",
    "    \" fecha_open     VARCHAR(250),\"\n",
    "    \" opens          INT(10),\"\n",
    "    \" opens_virales  INT(10),\"\n",
    "    \" fecha_click    VARCHAR(250),\"\n",
    "    \" clicks         INT(10),\"\n",
    "    \" clicks_virales INT(10),\"\n",
    "    \" links          VARCHAR(250),\"\n",
    "    \" ips            VARCHAR(250),\"\n",
    "    \" navegadores    VARCHAR(250),\"\n",
    "    \" plataformas    VARCHAR(250) )\")"
   ]
  },
  {
   "cell_type": "code",
   "execution_count": 29,
   "id": "514a6e5b-f663-408b-a75f-f1d6d266ab99",
   "metadata": {},
   "outputs": [],
   "source": [
    "def create_database():\n",
    "    cursor.execute(\n",
    "        \"CREATE DATABASE IF NOT EXISTS {} DEFAULT CHARACTER SET 'utf8'\".format(DB_NAME))\n",
    "    print(\"Database {} created!\".format(DB_NAME))"
   ]
  },
  {
   "cell_type": "code",
   "execution_count": 30,
   "id": "2674c3ae-1e13-4993-bede-70f18280e34b",
   "metadata": {},
   "outputs": [],
   "source": [
    "def create_tables():\n",
    "    \n",
    "    cursor.execute(\"USE {}\".format(DB_NAME))\n",
    "    for table_name in TABLES:\n",
    "        table_description = TABLES[table_name]\n",
    "        try:\n",
    "            print(\"Creating table ({}) \".format(table_name), end=\"\")\n",
    "            cursor.execute(table_description)\n",
    "        except mysql.connector.Error as err:\n",
    "            if err.errno == errorcode.ER_TABLE_EXISTS_ERROR:\n",
    "                print(\"Already Exists\")\n",
    "            else:\n",
    "                print(err.msg)"
   ]
  },
  {
   "cell_type": "code",
   "execution_count": 31,
   "id": "c43c83ab-98b8-4506-a872-c2d8befaead1",
   "metadata": {},
   "outputs": [
    {
     "name": "stdout",
     "output_type": "stream",
     "text": [
      "Database Vinkos created!\n"
     ]
    }
   ],
   "source": [
    "create_database()"
   ]
  },
  {
   "cell_type": "code",
   "execution_count": 32,
   "id": "e1ff3c7a-713a-41b9-ae00-966df3314519",
   "metadata": {},
   "outputs": [
    {
     "name": "stdout",
     "output_type": "stream",
     "text": [
      "Creating table (visitante) Already Exists\n",
      "Creating table (estadistica) Already Exists\n",
      "Creating table (errores) Already Exists\n"
     ]
    }
   ],
   "source": [
    "create_tables()"
   ]
  },
  {
   "cell_type": "code",
   "execution_count": 33,
   "id": "b3566d67-47b2-444d-8f0b-5511ef998f28",
   "metadata": {},
   "outputs": [],
   "source": [
    "def add_update_visitante(email, fechaprimeravisita, fechaultimavisita, \n",
    "                         visitastotales, visitasanioactual, visitasmesactual):\n",
    "    \n",
    "    \n",
    "    d = datetime.datetime.strptime(fechaprimeravisita, \"%d/%m/%Y %H:%M\")\n",
    "    fechaprimeravisita = d.strftime('%Y%m%d')\n",
    "    \n",
    "    d = datetime.datetime.strptime(fechaultimavisita, \"%d/%m/%Y %H:%M\")\n",
    "    fechaultimavisita = d.strftime('%Y%m%d')\n",
    "    \n",
    "    \n",
    "    sql = (\"INSERT INTO visitante (email, fechaprimeravisita, fechaultimavisita,\" \n",
    "           \"                       visitastotales, visitasanioactual, visitasmesactual) \"\n",
    "           \"               VALUES (%s, %s, %s, %s, %s, %s) \"\n",
    "           \"   ON DUPLICATE KEY UPDATE fechaultimavisita = %s, \"\n",
    "           \"                           visitastotales = visitastotales + 1, \"\n",
    "           \"                           visitasanioactual = visitasanioactual + 1, \"\n",
    "           \"                           visitasmesactual = visitasmesactual + 1 \")\n",
    "    cursor.execute(sql, (email, fechaprimeravisita, fechaultimavisita, \n",
    "                         visitastotales, visitasanioactual, visitasmesactual,\n",
    "                         fechaultimavisita))\n",
    "    db.commit()"
   ]
  },
  {
   "cell_type": "code",
   "execution_count": 34,
   "id": "a3f3b8e8-6ded-4b62-b4b4-4c6f5787c829",
   "metadata": {},
   "outputs": [
    {
     "name": "stdout",
     "output_type": "stream",
     "text": [
      "Adding/Updating 'visitantes' table ...\n",
      "Updating row number: \n",
      "1 , 2 , 3 , 4 , 5 , 6 , 7 , 8 , 9 , 10 , 11 , 12 , 13 , 14 , 15 , 16 , 17 , 18 , 19 , 20 , 21 , 22 , 23 , 24 , 25 , 26 , 27 , 28 , 29 , 30 , 31 , 32 , 33 , 34 , 35 , 36 , 37 , 38 , 39 , 40 , 41 , 42 , 43 , 44 , \n",
      "Adding/Updating 'visitantes' table is FINISHED\n",
      "\n"
     ]
    }
   ],
   "source": [
    "n = 0\n",
    "\n",
    "print(f\"Adding/Updating 'visitantes' table ...\")\n",
    "    \n",
    "print(\"Updating row number: \")\n",
    "for index, row in df_validated_acum.iterrows():\n",
    "        \n",
    "    add_update_visitante(row['email'], row['Fecha envio'], row['Fecha open'], 1, 1, 1)\n",
    "    n += 1\n",
    "    print(n, \", \", end='')\n",
    "        \n",
    "print(f\"\\nAdding/Updating 'visitantes' table is FINISHED\\n\")\n",
    "        \n",
    "        "
   ]
  },
  {
   "cell_type": "code",
   "execution_count": 35,
   "id": "820777f8-7954-487a-93f1-7373ab696014",
   "metadata": {},
   "outputs": [],
   "source": [
    "def add_estadistica(email, jk, Badmail, Baja, Fecha_envio, Fecha_open, Opens, Opens_virales, \n",
    "                    Fecha_click, Clicks, Clicks_virales, Links, IPs, Navegadores, \n",
    "                    Plataformas):\n",
    "    \n",
    "    d = datetime.datetime.strptime(Fecha_envio, \"%d/%m/%Y %H:%M\")\n",
    "    Fecha_envio = d.strftime('%Y%m%d')\n",
    "    \n",
    "    d = datetime.datetime.strptime(Fecha_open, \"%d/%m/%Y %H:%M\")\n",
    "    Fecha_open = d.strftime('%Y%m%d')\n",
    "    \n",
    "    d = datetime.datetime.strptime(Fecha_click, \"%d/%m/%Y %H:%M\")\n",
    "    Fecha_click = d.strftime('%Y%m%d')\n",
    "    \n",
    "    sql = (\"INSERT INTO estadistica (email, jyv, badmail, baja, fecha_envio, fecha_open, opens, \"\n",
    "           \"                         opens_virales, fecha_click, clicks, clicks_virales, links, \"\n",
    "           \"                         ips, navegadores, plataformas) \"\n",
    "           \"               VALUES (%s, %s, %s, %s, %s, %s, %s, %s, %s, %s, %s, %s, %s, %s, %s) \")\n",
    "    \n",
    "    cursor.execute(sql, (email, jk, Badmail, Baja, Fecha_envio, Fecha_open, Opens, Opens_virales,\n",
    "                           Fecha_click, Clicks, Clicks_virales, Links, IPs, Navegadores, \n",
    "                           Plataformas))\n",
    "    db.commit()"
   ]
  },
  {
   "cell_type": "code",
   "execution_count": 36,
   "id": "92019f34-e137-4e64-b201-05432a341b8c",
   "metadata": {},
   "outputs": [
    {
     "name": "stdout",
     "output_type": "stream",
     "text": [
      "Adding 'estadistica' table ...\n",
      "Adding row number: \n",
      "1 , 2 , 3 , 4 , 5 , 6 , 7 , 8 , 9 , 10 , 11 , 12 , 13 , 14 , 15 , 16 , 17 , 18 , 19 , 20 , 21 , 22 , 23 , 24 , 25 , 26 , 27 , 28 , 29 , 30 , 31 , 32 , 33 , 34 , 35 , 36 , 37 , 38 , 39 , 40 , 41 , 42 , 43 , 44 , \n",
      "Adding 'estadistica' table is FINISHED\n",
      "\n"
     ]
    }
   ],
   "source": [
    "n = 0\n",
    "\n",
    "print(f\"Adding 'estadistica' table ...\")\n",
    "    \n",
    "print(\"Adding row number: \")\n",
    "for index, row in df_validated_acum.iterrows():\n",
    "        \n",
    "    add_estadistica(row['email'], row['jk'], row['Badmail'], row['Baja'], row['Fecha envio'], \n",
    "                    row['Fecha open'], row['Opens'], row['Opens virales'],\n",
    "                    row['Fecha click'], row['Clicks'], row['Clicks virales'],\n",
    "                    row['Links'], row['IPs'], row['Navegadores'], row['Plataformas'])\n",
    "    \n",
    "    n += 1\n",
    "    print(n, \", \", end='')\n",
    "        \n",
    "print(f\"\\nAdding 'estadistica' table is FINISHED\\n\")\n",
    "        "
   ]
  },
  {
   "cell_type": "code",
   "execution_count": 37,
   "id": "65f3ac9b-296f-485d-b31f-5ebe0c85a24e",
   "metadata": {},
   "outputs": [],
   "source": [
    "def add_errores(email, jk, Badmail, Baja, Fecha_envio, Fecha_open, Opens, Opens_virales, \n",
    "                Fecha_click, Clicks, Clicks_virales, Links, IPs, Navegadores, \n",
    "                Plataformas):\n",
    "    \n",
    "    sql = (\"INSERT INTO errores (email, jyv, badmail, baja, fecha_envio, fecha_open, opens, \"\n",
    "           \"                     opens_virales, fecha_click, clicks, clicks_virales, links, \"\n",
    "           \"                     ips, navegadores, plataformas) \"\n",
    "           \"               VALUES (%s, %s, %s, %s, %s, %s, %s, %s, %s, %s, %s, %s, %s, %s, %s) \")\n",
    "    \n",
    "    cursor.execute(sql, (email, jk, Badmail, Baja, Fecha_envio, Fecha_open, Opens, Opens_virales,\n",
    "                         Fecha_click, Clicks, Clicks_virales, Links, IPs, Navegadores, \n",
    "                         Plataformas))\n",
    "    db.commit()"
   ]
  },
  {
   "cell_type": "code",
   "execution_count": 38,
   "id": "d60dcbfa-e9e9-4711-ba41-609dd69bf780",
   "metadata": {},
   "outputs": [
    {
     "name": "stdout",
     "output_type": "stream",
     "text": [
      "Adding 'errores' table ...\n",
      "Adding row number: \n",
      "1 , 2 , 3 , 4 , 5 , 6 , 7 , 8 , 9 , 10 , 11 , 12 , 13 , 14 , 15 , 16 , 17 , 18 , 19 , 20 , 21 , 22 , 23 , 24 , 25 , 26 , 27 , 28 , 29 , 30 , 31 , 32 , 33 , 34 , 35 , 36 , 37 , 38 , 39 , 40 , 41 , 42 , 43 , 44 , \n",
      "Adding 'errores' table is FINISHED\n",
      "\n"
     ]
    }
   ],
   "source": [
    "n = 0\n",
    "\n",
    "print(f\"Adding 'errores' table ...\")\n",
    "    \n",
    "print(\"Adding row number: \")\n",
    "#for index, row in df_validated_acum.iterrows():\n",
    "for index, row in df_errors_acum.iterrows():\n",
    "        \n",
    "    add_errores(row['email'], row['jk'], row['Badmail'], row['Baja'], row['Fecha envio'], \n",
    "                row['Fecha open'], row['Opens'], row['Opens virales'],\n",
    "                row['Fecha click'], row['Clicks'], row['Clicks virales'],\n",
    "                row['Links'], row['IPs'], row['Navegadores'], row['Plataformas'])\n",
    "    \n",
    "    n += 1\n",
    "    print(n, \", \", end='')\n",
    "        \n",
    "print(f\"\\nAdding 'errores' table is FINISHED\\n\")\n",
    "        "
   ]
  },
  {
   "cell_type": "markdown",
   "id": "e6948466-cd65-4325-a06a-41b6ebc79b13",
   "metadata": {},
   "source": [
    "# Remove Files"
   ]
  },
  {
   "cell_type": "code",
   "execution_count": 39,
   "id": "fb32bf2b-625f-450b-9cd5-f62503343152",
   "metadata": {},
   "outputs": [],
   "source": [
    "files = [WORKFILES+dataframes_list[idx][0] for idx in range(0, len(dataframes_list))]"
   ]
  },
  {
   "cell_type": "code",
   "execution_count": 40,
   "id": "774b4665-87b2-4f87-9ee2-d73d8f16322f",
   "metadata": {},
   "outputs": [
    {
     "data": {
      "text/plain": [
       "['home/vinkOS/archivosVisitas/report_7.txt',\n",
       " 'home/vinkOS/archivosVisitas/report_8.txt',\n",
       " 'home/vinkOS/archivosVisitas/report_9.txt']"
      ]
     },
     "execution_count": 40,
     "metadata": {},
     "output_type": "execute_result"
    }
   ],
   "source": [
    "files"
   ]
  },
  {
   "cell_type": "code",
   "execution_count": 41,
   "id": "2d005ad0-1a85-41a7-bfe9-64420f589f0e",
   "metadata": {},
   "outputs": [
    {
     "name": "stdout",
     "output_type": "stream",
     "text": [
      "File home/vinkOS/archivosVisitas/report_7.txt removed\n",
      "File home/vinkOS/archivosVisitas/report_8.txt removed\n",
      "File home/vinkOS/archivosVisitas/report_9.txt removed\n"
     ]
    }
   ],
   "source": [
    "for f in files:\n",
    "    if os.path.exists(f):\n",
    "        os.remove(f)\n",
    "        print(f\"File {f} removed\")\n",
    "    else:\n",
    "        print(f\"The file: {f} does not exist\")"
   ]
  },
  {
   "cell_type": "code",
   "execution_count": 42,
   "id": "10762b05-2389-4e04-85b5-32cfa673dd26",
   "metadata": {},
   "outputs": [],
   "source": [
    "\"\"\"\n",
    "def copy_files():\n",
    "    copyfile('home/vinkOS/archivosVisitas/backup/report_7.txt', files[0])\n",
    "    copyfile('home/vinkOS/archivosVisitas/backup/report_8.txt', files[1])\n",
    "    copyfile('home/vinkOS/archivosVisitas/backup/report_9.txt', files[2])\n",
    "\"\"\""
   ]
  },
  {
   "cell_type": "code",
   "execution_count": 43,
   "id": "30e353a5-288d-48cd-b866-5d896524e71b",
   "metadata": {},
   "outputs": [],
   "source": [
    "#copy_files()"
   ]
  },
  {
   "cell_type": "markdown",
   "id": "00731baf-995a-495f-a00e-589c70e0059f",
   "metadata": {},
   "source": [
    "# Backup files"
   ]
  },
  {
   "cell_type": "code",
   "execution_count": 44,
   "id": "f73722d0-218c-434d-89ae-01402100ec56",
   "metadata": {},
   "outputs": [],
   "source": [
    "import os\n",
    "import datetime\n",
    "from zipfile import ZipFile"
   ]
  },
  {
   "cell_type": "code",
   "execution_count": 45,
   "id": "037b6166-b0f9-4e81-8622-ab960bed5bef",
   "metadata": {},
   "outputs": [],
   "source": [
    "BACKUP_DIR_NAME = WORKFILES + \"backups\"\n",
    "FILE_PREFIX = \"backup_\"\n",
    "FILE_SUFFIX_DATE_FORMAT = \"%Y%m%d%H%M%S\"\n",
    "USERNAME = DB_USER\n",
    "DBNAME = DB_NAME"
   ]
  },
  {
   "cell_type": "code",
   "execution_count": 46,
   "id": "7ed5b36d-427b-4401-9f49-8387a884e0e5",
   "metadata": {},
   "outputs": [
    {
     "data": {
      "text/plain": [
       "'\\n# Secure File Priv.\\nsecure-file-priv=\"\"\\n\\n# Path to the database root\\ndatadir=/home/etl/visitas/bckp\\n\\n'"
      ]
     },
     "execution_count": 46,
     "metadata": {},
     "output_type": "execute_result"
    }
   ],
   "source": [
    "# Change in my.ini file in order to save backups in this folder\n",
    "\n",
    "\"\"\"\n",
    "# Secure File Priv.\n",
    "secure-file-priv=\"\"\n",
    "\n",
    "# Path to the database root\n",
    "datadir=/home/etl/visitas/bckp\n",
    "\n",
    "\"\"\""
   ]
  },
  {
   "cell_type": "markdown",
   "id": "92535b09-9863-488d-9a31-9c515a169d7d",
   "metadata": {},
   "source": [
    "# ZIP files"
   ]
  },
  {
   "cell_type": "code",
   "execution_count": 47,
   "id": "94a9f74f-8ceb-4422-865f-303b72452bf6",
   "metadata": {},
   "outputs": [],
   "source": [
    "# Obtain datadir value\n",
    "sql = (\"SELECT @@datadir\")\n",
    "cursor.execute(sql)\n",
    "datadir = cursor.fetchall()\n",
    "datadir = datadir[0][0]"
   ]
  },
  {
   "cell_type": "code",
   "execution_count": 48,
   "id": "79802100-27d2-49dd-9d38-b6886d2cb923",
   "metadata": {
    "tags": []
   },
   "outputs": [],
   "source": [
    "# get today's date and time\n",
    "timestamp = datetime.datetime.now().strftime(FILE_SUFFIX_DATE_FORMAT)\n",
    "backup_filename1 = FILE_PREFIX + \"visitante_\" + timestamp + \".sql\"\n",
    "backup_filename2 = FILE_PREFIX + \"estadistica_\" + timestamp + \".sql\"\n",
    "backup_filename3 = FILE_PREFIX + \"errores_\" + timestamp + \".sql\""
   ]
  },
  {
   "cell_type": "code",
   "execution_count": 49,
   "id": "aa52fc7f-9fb6-4a7d-89cd-6406b119e954",
   "metadata": {},
   "outputs": [],
   "source": [
    "backup = (\"SELECT * INTO OUTFILE '\" + backup_filename1 + \"' FROM visitante;\"\n",
    "          \"SELECT * INTO OUTFILE '\" + backup_filename2 + \"' FROM estadistica;\"\n",
    "          \"SELECT * INTO OUTFILE '\" + backup_filename3 + \"' FROM errores;\")"
   ]
  },
  {
   "cell_type": "code",
   "execution_count": 50,
   "id": "285ce5ed-d862-4384-9439-04b482dff01e",
   "metadata": {},
   "outputs": [],
   "source": [
    "cursor.execute(backup)"
   ]
  },
  {
   "cell_type": "code",
   "execution_count": 51,
   "id": "0baa6fef-a139-40d0-ade3-e1a251b518fb",
   "metadata": {},
   "outputs": [
    {
     "name": "stdout",
     "output_type": "stream",
     "text": [
      "File: backup_visitante_20220106225837.sql , Ready\n",
      "File: backup_estadistica_20220106225837.sql , Ready\n",
      "File: backup_errores_20220106225837.sql , Ready\n"
     ]
    }
   ],
   "source": [
    "print(f\"File: {backup_filename1} , Ready\")\n",
    "print(f\"File: {backup_filename2} , Ready\")\n",
    "print(f\"File: {backup_filename3} , Ready\")"
   ]
  },
  {
   "cell_type": "code",
   "execution_count": 56,
   "id": "c0c96764-cf01-4d71-8364-f42a1d69a7fc",
   "metadata": {},
   "outputs": [],
   "source": [
    "db.close()"
   ]
  },
  {
   "cell_type": "code",
   "execution_count": 52,
   "id": "237ec7eb-a2da-4bba-b62b-faaf89963d90",
   "metadata": {},
   "outputs": [],
   "source": [
    "zip_filename1 = FILE_PREFIX + \"visitante_\" + timestamp + \".zip\"\n",
    "zip_filename2 = FILE_PREFIX + \"estadistica_\" + timestamp + \".zip\"\n",
    "zip_filename3 = FILE_PREFIX + \"errores_\" + timestamp + \".zip\""
   ]
  },
  {
   "cell_type": "code",
   "execution_count": 53,
   "id": "7c7ff447-68fe-4b40-b338-31187c6614a5",
   "metadata": {},
   "outputs": [
    {
     "name": "stdout",
     "output_type": "stream",
     "text": [
      "File: backup_visitante_20220106225837.sql.zip , Ready\n"
     ]
    }
   ],
   "source": [
    "shutil.make_archive(datadir + \"vinkos\\\\\"+backup_filename1, 'zip', datadir+\"vinkos\\\\\")\n",
    "print(f\"File: {backup_filename1}.zip , Ready\")"
   ]
  },
  {
   "cell_type": "code",
   "execution_count": 54,
   "id": "df743de0-848c-41f6-8bbc-c38498cfc70a",
   "metadata": {},
   "outputs": [
    {
     "name": "stdout",
     "output_type": "stream",
     "text": [
      "File: backup_estadistica_20220106225837.sql.zip , Ready\n"
     ]
    }
   ],
   "source": [
    "shutil.make_archive(datadir + \"vinkos\\\\\"+backup_filename2, 'zip', datadir+\"vinkos\\\\\")\n",
    "print(f\"File: {backup_filename2}.zip , Ready\")"
   ]
  },
  {
   "cell_type": "code",
   "execution_count": 55,
   "id": "9e77fc15-3874-4ec0-9bc2-0dde019213a5",
   "metadata": {},
   "outputs": [
    {
     "name": "stdout",
     "output_type": "stream",
     "text": [
      "File: backup_errores_20220106225837.sql.zip , Ready\n"
     ]
    }
   ],
   "source": [
    "shutil.make_archive(datadir + \"vinkos\\\\\"+backup_filename3, 'zip', datadir+\"vinkos\\\\\")\n",
    "print(f\"File: {backup_filename3}.zip , Ready\")"
   ]
  },
  {
   "cell_type": "markdown",
   "id": "6a1d074a-7bb2-4e00-a69f-d9161a48afcb",
   "metadata": {},
   "source": [
    "# Bitácora de control de carga de los archivos"
   ]
  },
  {
   "cell_type": "code",
   "execution_count": 59,
   "id": "df3c54d8-30da-4e45-ac1b-9573157ac046",
   "metadata": {},
   "outputs": [],
   "source": [
    "file = open(\"bitacora.txt\", \"w\")\n",
    "file.write(\"-----------------------------------------\" + os.linesep)\n",
    "file.write(f\"Fecha: {date.today()}\" + os.linesep)\n",
    "for f in files:\n",
    "    file.write(f\"{f} loaded\" + os.linesep)\n",
    "file.write(f\"Total Rows validated GOOD: {len(df_validated_acum)}\" + os.linesep)\n",
    "file.write(f\"Total Rows with ERRORS: {len(df_errors_acum)}\" + os.linesep)\n",
    "file.write(\"-----------------------------------------\" + os.linesep)\n",
    "file.close()"
   ]
  },
  {
   "cell_type": "code",
   "execution_count": null,
   "id": "3a4e68cb-3ab8-4e88-832e-f891851327df",
   "metadata": {},
   "outputs": [],
   "source": []
  }
 ],
 "metadata": {
  "kernelspec": {
   "display_name": "Python 3",
   "language": "python",
   "name": "python3"
  },
  "language_info": {
   "codemirror_mode": {
    "name": "ipython",
    "version": 3
   },
   "file_extension": ".py",
   "mimetype": "text/x-python",
   "name": "python",
   "nbconvert_exporter": "python",
   "pygments_lexer": "ipython3",
   "version": "3.8.8"
  }
 },
 "nbformat": 4,
 "nbformat_minor": 5
}
